{
  "nbformat": 4,
  "nbformat_minor": 0,
  "metadata": {
    "colab": {
      "provenance": []
    },
    "kernelspec": {
      "name": "python3",
      "display_name": "Python 3"
    },
    "language_info": {
      "name": "python"
    }
  },
  "cells": [
    {
      "cell_type": "code",
      "execution_count": 1,
      "metadata": {
        "id": "bIthcu-IycZJ"
      },
      "outputs": [],
      "source": [
        "import numpy as np\n",
        "import pandas as pd\n",
        "import matplotlib.pyplot as plt\n",
        "\n",
        "np.random.seed(42)\n",
        "n = 500\n"
      ]
    },
    {
      "cell_type": "code",
      "source": [
        "# Datos sintéticos\n",
        "MedInc = np.random.lognormal(mean=2.5, sigma=0.35, size=n)\n",
        "HouseAge = np.random.randint(1, 52, size=n)\n",
        "Longitude = -124 + np.random.rand(n) * 10\n",
        "Latitude = 32 + np.random.rand(n) * 8\n",
        "AveRooms = 5 + 0.15*MedInc + 0.03*HouseAge + np.random.randn(n)\n",
        "\n",
        "# target\n",
        "target = (\n",
        "    0.45*MedInc\n",
        "    - 0.02*HouseAge\n",
        "    - 0.3*(Latitude-36)\n",
        "    - 0.1*(Longitude+119)\n",
        "    + 0.2*AveRooms\n",
        "    + np.random.randn(n)*0.5\n",
        ")\n",
        "\n",
        "df = pd.DataFrame(\n",
        "    {\n",
        "\n",
        "    'MedInc': MedInc,\n",
        "    'HouseAge': HouseAge,\n",
        "    'Longitude': Longitude,\n",
        "    'Latitude': Latitude,\n",
        "    'AveRooms': AveRooms,\n",
        "    'target': target,\n",
        "}\n",
        "    )\n",
        "\n",
        "numeric_cols = df.columns.tolist()"
      ],
      "metadata": {
        "id": "p5qwPGkGytlK"
      },
      "execution_count": 2,
      "outputs": []
    },
    {
      "cell_type": "code",
      "source": [
        "cov_mat = df[numeric_cols].cov()\n",
        "corr_mat = df[numeric_cols].corr()\n",
        "\n",
        "print(\"Covariance Matrix:\\n\", cov_mat.round(3), \"\\n\")\n",
        "print(\"Correlation Matrix\\n\", corr_mat.round(3))\n"
      ],
      "metadata": {
        "colab": {
          "base_uri": "https://localhost:8080/"
        },
        "id": "7M7nLQHS1fbY",
        "outputId": "c08a6d2e-173b-4b69-95d6-c895481977d1"
      },
      "execution_count": 3,
      "outputs": [
        {
          "output_type": "stream",
          "name": "stdout",
          "text": [
            "Covariance Matrix:\n",
            "            MedInc  HouseAge  Longitude  Latitude  AveRooms  target\n",
            "MedInc     22.967    -3.196      0.114     0.694     3.275  10.829\n",
            "HouseAge   -3.196   222.304     -2.162    -0.080     5.950  -3.986\n",
            "Longitude   0.114    -2.162      8.644     0.390    -0.140  -0.892\n",
            "Latitude    0.694    -0.080      0.390     5.031    -0.049  -1.256\n",
            "AveRooms    3.275     5.950     -0.140    -0.049     1.587   1.698\n",
            "target     10.829    -3.986     -0.892    -1.256     1.698   6.004 \n",
            "\n",
            "Correlation Matrix\n",
            "            MedInc  HouseAge  Longitude  Latitude  AveRooms  target\n",
            "MedInc      1.000    -0.045      0.008     0.065     0.542   0.922\n",
            "HouseAge   -0.045     1.000     -0.049    -0.002     0.317  -0.109\n",
            "Longitude   0.008    -0.049      1.000     0.059    -0.038  -0.124\n",
            "Latitude    0.065    -0.002      0.059     1.000    -0.017  -0.228\n",
            "AveRooms    0.542     0.317     -0.038    -0.017     1.000   0.550\n",
            "target      0.922    -0.109     -0.124    -0.228     0.550   1.000\n"
          ]
        }
      ]
    },
    {
      "cell_type": "code",
      "source": [
        "# Hat-matrix\n",
        "y = df[\"target\"].values.reshape(-1, 1)\n",
        "X = df[[\"MedInc\", \"AveRooms\", \"HouseAge\", \"Latitude\", \"Longitude\"]].values\n"
      ],
      "metadata": {
        "id": "nHdVY3yI9GnG"
      },
      "execution_count": 4,
      "outputs": []
    },
    {
      "cell_type": "code",
      "source": [
        "XtX = X.T @ X\n",
        "XtX_inv = np.linalg.inv(XtX)\n",
        "beta = XtX_inv @ X.T @ y\n",
        "print(beta)\n",
        "y_hat = X @ beta\n",
        "\n",
        "resid = y - y_hat\n",
        "# Hat-Matrix\n",
        "H = X @ XtX_inv @ X.T\n",
        "leverage = np.diag(H)\n",
        "print(leverage)\n"
      ],
      "metadata": {
        "colab": {
          "base_uri": "https://localhost:8080/"
        },
        "id": "_erspQ5w-BvH",
        "outputId": "20d3f8d9-05c9-42dd-a13e-94f898cd25e9"
      },
      "execution_count": 5,
      "outputs": [
        {
          "output_type": "stream",
          "name": "stdout",
          "text": [
            "[[ 0.45269819]\n",
            " [ 0.18170414]\n",
            " [-0.01733267]\n",
            " [-0.30540352]\n",
            " [-0.09282867]]\n",
            "[0.00716159 0.00844413 0.01408987 0.02184983 0.00429377 0.00363699\n",
            " 0.01170095 0.00409888 0.01298956 0.02004416 0.02000181 0.01125825\n",
            " 0.00234209 0.0090851  0.00677085 0.00391568 0.00444953 0.00703757\n",
            " 0.00873464 0.01154218 0.00957694 0.00665284 0.00684896 0.01179716\n",
            " 0.01327239 0.00303293 0.011155   0.00842512 0.00745521 0.00279771\n",
            " 0.01261319 0.02021371 0.00631714 0.0155859  0.01159935 0.00613634\n",
            " 0.00510555 0.018697   0.01324469 0.0034197  0.00562677 0.0087702\n",
            " 0.00501241 0.00784706 0.00864927 0.00821474 0.0072518  0.01550617\n",
            " 0.00571816 0.0156292  0.00446867 0.00472426 0.00463717 0.00993394\n",
            " 0.01440882 0.01969    0.00877429 0.01308522 0.00704663 0.00880683\n",
            " 0.00397642 0.00699333 0.00844003 0.00768161 0.00457698 0.01278514\n",
            " 0.0114409  0.0070369  0.01081139 0.01271357 0.00682801 0.01261825\n",
            " 0.00281993 0.01199783 0.01059717 0.01638579 0.00519933 0.0054284\n",
            " 0.01443269 0.00695402 0.00905185 0.01234914 0.01897185 0.00512142\n",
            " 0.00639704 0.00597023 0.00463653 0.00645896 0.01089413 0.00491626\n",
            " 0.00905378 0.00706133 0.01063576 0.00878641 0.00958252 0.02051644\n",
            " 0.00750339 0.00540494 0.01106082 0.00452228 0.01301403 0.00378151\n",
            " 0.00581651 0.01256639 0.00887011 0.00362297 0.01188574 0.01107819\n",
            " 0.01331248 0.01577641 0.00716494 0.00667615 0.00539842 0.02549464\n",
            " 0.00346856 0.00677918 0.00703353 0.0058892  0.01348244 0.00376581\n",
            " 0.00972877 0.00644744 0.01463153 0.01019062 0.00656387 0.01720136\n",
            " 0.00748178 0.01025231 0.00383912 0.00490038 0.00822234 0.00440851\n",
            " 0.00940865 0.00464552 0.0074241  0.00985355 0.00455428 0.00530907\n",
            " 0.00597105 0.01007663 0.00514988 0.01090012 0.01710582 0.00453084\n",
            " 0.00495187 0.00991423 0.0101705  0.0077905  0.00875273 0.00992902\n",
            " 0.01707622 0.0127744  0.00999689 0.01036474 0.01369439 0.01003294\n",
            " 0.01418337 0.00945323 0.0076616  0.0061748  0.00575884 0.00819825\n",
            " 0.01489399 0.00498605 0.01282013 0.00413006 0.00388616 0.02176821\n",
            " 0.0050147  0.00555357 0.01069079 0.00764735 0.00986535 0.00583347\n",
            " 0.01445911 0.00886462 0.00603218 0.01393964 0.0050113  0.03485687\n",
            " 0.01101769 0.01371559 0.01050537 0.00555231 0.00365621 0.00577144\n",
            " 0.00683879 0.00966138 0.00384364 0.01486815 0.01657177 0.01445822\n",
            " 0.01468404 0.0106332  0.00810531 0.00349608 0.01652448 0.00848994\n",
            " 0.00480644 0.00755697 0.00352327 0.0046835  0.00741584 0.01103592\n",
            " 0.00843843 0.00892036 0.01099088 0.01305348 0.00656363 0.11605405\n",
            " 0.01703804 0.00798514 0.01567786 0.00366059 0.01392108 0.00625426\n",
            " 0.00528431 0.00430779 0.00540282 0.00498445 0.02064129 0.01248642\n",
            " 0.00355166 0.01534599 0.0056632  0.00682318 0.00468897 0.00879204\n",
            " 0.00493758 0.01183083 0.01117448 0.0085421  0.00760916 0.00852765\n",
            " 0.02519078 0.01583453 0.0080788  0.00397011 0.0164343  0.01659935\n",
            " 0.00367637 0.00732523 0.01050733 0.01850242 0.00644987 0.01676316\n",
            " 0.00704621 0.02493301 0.01820991 0.0158541  0.00582224 0.00477367\n",
            " 0.02365179 0.01266285 0.00890371 0.00827698 0.01387835 0.00670207\n",
            " 0.00618877 0.00571794 0.01054246 0.00835548 0.01478796 0.0075996\n",
            " 0.00453649 0.00938336 0.01210945 0.00470342 0.00441637 0.0043634\n",
            " 0.0083618  0.01475776 0.01313875 0.0041477  0.01150701 0.00552328\n",
            " 0.01264696 0.00617449 0.0064924  0.00754543 0.01079015 0.00688412\n",
            " 0.01049489 0.01136438 0.02206147 0.00716337 0.00790211 0.02161407\n",
            " 0.00890902 0.0076269  0.00583796 0.0046651  0.00996446 0.01225284\n",
            " 0.00489528 0.01243058 0.00885228 0.01789499 0.00366116 0.00987833\n",
            " 0.01349038 0.00874492 0.00704184 0.0110738  0.00523606 0.0174627\n",
            " 0.0104631  0.01207397 0.00401949 0.00689713 0.00704818 0.00857614\n",
            " 0.01444834 0.00438274 0.00958188 0.0031035  0.00467197 0.00970932\n",
            " 0.00603467 0.00572826 0.00260161 0.00778998 0.00978437 0.02663477\n",
            " 0.01414186 0.01612925 0.00863707 0.00815854 0.00769967 0.01294872\n",
            " 0.01401578 0.01543832 0.00981796 0.00799787 0.00400111 0.0074676\n",
            " 0.01854229 0.02243014 0.01378099 0.00575858 0.00462163 0.00367722\n",
            " 0.01012153 0.00918171 0.00511973 0.00937843 0.00733109 0.00978044\n",
            " 0.00776579 0.00429566 0.00888218 0.00762888 0.00773958 0.0096109\n",
            " 0.0113253  0.01052904 0.00972996 0.01047941 0.01278253 0.00406684\n",
            " 0.01433801 0.01610772 0.02933077 0.00598784 0.01009812 0.00811401\n",
            " 0.00285937 0.00931821 0.01083309 0.01150673 0.00621066 0.00851314\n",
            " 0.00898278 0.00433085 0.02172972 0.00647519 0.00851809 0.01061343\n",
            " 0.02915012 0.00779359 0.00949673 0.00963731 0.01236987 0.0032388\n",
            " 0.00858664 0.00461054 0.00636072 0.01474546 0.00850702 0.01277233\n",
            " 0.01119376 0.00359652 0.01321992 0.02196302 0.0059144  0.00676175\n",
            " 0.00789115 0.00707167 0.00869596 0.01549559 0.01567328 0.01347131\n",
            " 0.00794418 0.00426881 0.00991396 0.01361618 0.01071902 0.00393928\n",
            " 0.00600542 0.0029568  0.01048735 0.00986153 0.00793687 0.01059851\n",
            " 0.00735784 0.01010808 0.0295652  0.00515275 0.0169587  0.008672\n",
            " 0.01545048 0.01368861 0.00562748 0.00639336 0.01669183 0.01346795\n",
            " 0.01173482 0.00923063 0.00939156 0.01682186 0.00587905 0.01015998\n",
            " 0.00820579 0.00778034 0.01579045 0.00857927 0.02482925 0.00981793\n",
            " 0.01390851 0.00343866 0.01259125 0.0099646  0.01547678 0.00293533\n",
            " 0.00860782 0.01224893 0.00267537 0.00473705 0.00516666 0.01054675\n",
            " 0.01049099 0.0150964  0.00977029 0.01124349 0.0148456  0.00855744\n",
            " 0.0099823  0.00530085 0.00537057 0.00636321 0.01646928 0.01128837\n",
            " 0.00797504 0.00423038 0.0123899  0.00331107 0.0031215  0.00438386\n",
            " 0.01241335 0.00606734 0.00688465 0.01269545 0.01144211 0.00984171\n",
            " 0.01779504 0.00984425 0.01104705 0.00704207 0.04888032 0.00918443\n",
            " 0.00349214 0.01011819 0.00952255 0.02027948 0.01399773 0.01370504\n",
            " 0.01167666 0.00610648 0.0185853  0.00387153 0.00304614 0.00918024\n",
            " 0.00771075 0.01152641 0.01169196 0.00478097 0.01527941 0.00642134\n",
            " 0.0071809  0.01552609]\n"
          ]
        }
      ]
    },
    {
      "cell_type": "code",
      "source": [
        "print(\"H\", H.shape)\n",
        "print(\"y\", y.shape)\n",
        "print(\"y_hat\", y_hat.shape)\n",
        "print(\"X\", X.shape)\n",
        "print(\"beta\", beta.shape)"
      ],
      "metadata": {
        "colab": {
          "base_uri": "https://localhost:8080/"
        },
        "id": "BIWr6mZiAC-4",
        "outputId": "7cdd0129-c923-44df-94ba-38f5609ceb1d"
      },
      "execution_count": 6,
      "outputs": [
        {
          "output_type": "stream",
          "name": "stdout",
          "text": [
            "H (500, 500)\n",
            "y (500, 1)\n",
            "y_hat (500, 1)\n",
            "X (500, 5)\n",
            "beta (5, 1)\n"
          ]
        }
      ]
    },
    {
      "cell_type": "code",
      "source": [
        "summary = pd.DataFrame({\n",
        "    \"index\": np.arange(n),\n",
        "    \"leverage\": leverage,\n",
        "    \"y\": y.flatten(),\n",
        "    \"y_hat\": y_hat.flatten(),\n",
        "    \"resid\": resid.flatten(),\n",
        "})\n"
      ],
      "metadata": {
        "id": "2H_1hyGuAU9C"
      },
      "execution_count": 7,
      "outputs": []
    },
    {
      "cell_type": "code",
      "source": [
        "print(\"Top 10 Leverage Points\")\n",
        "print(summary.sort_values(by=\"leverage\", ascending=False).head(10).round(3))"
      ],
      "metadata": {
        "colab": {
          "base_uri": "https://localhost:8080/"
        },
        "id": "k8qocXefAnyC",
        "outputId": "8d12186a-3cbc-411d-b0c1-82c4f49bfabe"
      },
      "execution_count": 8,
      "outputs": [
        {
          "output_type": "stream",
          "name": "stdout",
          "text": [
            "Top 10 Leverage Points\n",
            "     index  leverage       y   y_hat  resid\n",
            "209    209     0.116  24.706  24.651  0.054\n",
            "478    478     0.049  18.365  18.069  0.295\n",
            "179    179     0.035  15.024  15.778 -0.753\n",
            "416    416     0.030  11.599  12.271 -0.671\n",
            "362    362     0.029   6.400   6.942 -0.542\n",
            "378    378     0.029  12.418  13.075 -0.657\n",
            "323    323     0.027  10.343  11.019 -0.676\n",
            "113    113     0.025  14.024  13.938  0.087\n",
            "234    234     0.025  11.089  11.442 -0.353\n",
            "247    247     0.025   3.930   4.186 -0.256\n"
          ]
        }
      ]
    },
    {
      "cell_type": "code",
      "source": [
        "n, p = X.shape\n",
        "print(\"n\", n)\n",
        "print(\"p\", p)\n",
        "\n",
        "avg_lev = p/n\n",
        "threshold = 2*avg_lev\n",
        "print(\"avg_lev\", avg_lev)\n",
        "print(\"threshold\", threshold)"
      ],
      "metadata": {
        "colab": {
          "base_uri": "https://localhost:8080/"
        },
        "id": "nzMiuf0zB9Hi",
        "outputId": "415c4d42-367b-4bec-a8a6-5f46443e19f5"
      },
      "execution_count": 9,
      "outputs": [
        {
          "output_type": "stream",
          "name": "stdout",
          "text": [
            "n 500\n",
            "p 5\n",
            "avg_lev 0.01\n",
            "threshold 0.02\n"
          ]
        }
      ]
    },
    {
      "cell_type": "code",
      "source": [
        "# Plotting leverage points\n",
        "plt.figure(figsize=(10,6))\n",
        "plt.scatter(summary[\"index\"], summary[\"leverage\"], s=8)\n",
        "plt.axhline(y=threshold, color='r', linestyle='--', label=f'Threshold: {threshold:.2f}')\n",
        "plt.axhline(y=avg_lev, linestyle='--', label=f'Average Leverage: {avg_lev:.2f}')\n",
        "hi_idx = summary.index[summary[\"leverage\"] > threshold].tolist()\n",
        "if len(hi_idx) > 0:\n",
        "  plt.scatter(hi_idx, summary.loc[hi_idx, \"leverage\"], s=20)\n",
        "plt.xlabel('Index')\n",
        "plt.ylabel('Leverage h_ii')\n",
        "plt.title('Leverage Points')\n",
        "plt.legend()\n",
        "plt.grid(True)\n",
        "plt.show()\n"
      ],
      "metadata": {
        "colab": {
          "base_uri": "https://localhost:8080/",
          "height": 564
        },
        "id": "on8vD641CZFX",
        "outputId": "c476b8de-d961-426b-d067-22e788f5004e"
      },
      "execution_count": 11,
      "outputs": [
        {
          "output_type": "display_data",
          "data": {
            "text/plain": [
              "<Figure size 1000x600 with 1 Axes>"
            ],
            "image/png": "[encoded data removed]"
          },
          "metadata": {}
        }
      ]
    }
  ]
}